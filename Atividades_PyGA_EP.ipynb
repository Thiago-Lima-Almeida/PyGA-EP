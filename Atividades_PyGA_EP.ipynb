{
  "nbformat": 4,
  "nbformat_minor": 0,
  "metadata": {
    "colab": {
      "provenance": [],
      "authorship_tag": "ABX9TyP4Dvpwcc9wA6BAGANPad/d",
      "include_colab_link": true
    },
    "kernelspec": {
      "name": "python3",
      "display_name": "Python 3"
    },
    "language_info": {
      "name": "python"
    }
  },
  "cells": [
    {
      "cell_type": "markdown",
      "metadata": {
        "id": "view-in-github",
        "colab_type": "text"
      },
      "source": [
        "<a href=\"https://colab.research.google.com/github/Thiago-Lima-Almeida/PyGA-EP/blob/main/Atividades_PyGA_EP.ipynb\" target=\"_parent\"><img src=\"https://colab.research.google.com/assets/colab-badge.svg\" alt=\"Open In Colab\"/></a>"
      ]
    },
    {
      "cell_type": "markdown",
      "source": [
        "<h3>Questão 1<br>\n",
        "Projeto de Fábrica e Instalações Industriais</h3>\n",
        "\n",
        "---\n",
        "\n",
        "Você foi contratado por uma rede de fast-food para analisar o layout de uma unidade, representando as posições dos equipamentos em um plano cartesiano. O objetivo é identificar os espaços vagos e propor melhorias no uso do espaço, sem interromper o funcionamento do estabelecimento.\n",
        "\n",
        "Ao mapear o espaço, identificou que o centro do fast-food corresponde à origem do plano cartesiano (0,0). As posições das máquinas foram descritas com base em sua relação com o centro. As máquinas estão posicionadas da seguinte forma:\n",
        "\n",
        "* Máquina A: 4 pontos acima e 5 à direita;\n",
        "* Máquina B: 4 pontos abaixo e 2 à esquerda;\n",
        "* Máquina C: 2 pontos acima e 1 à esquerda;\n",
        "* Máquina D: 5 pontos abaixo e 3 à direita;\n",
        "* Máquina E: 3 pontos acima e 2 à direita.\n",
        "\n",
        "**Represente o layout dessa unidade em um plano cartesiano, utilizando os conceitos abordados no produto educacional.**"
      ],
      "metadata": {
        "id": "p08Ws7FrvfNs"
      }
    },
    {
      "cell_type": "code",
      "execution_count": null,
      "metadata": {
        "id": "BSalz-nIu6PA"
      },
      "outputs": [],
      "source": []
    },
    {
      "cell_type": "markdown",
      "source": [
        "<h3>Questão 2<br>\n",
        "Logística empresarial</h3>\n",
        "\n",
        "---\n",
        "\n",
        "Após mapear graficamente as posições das máquinas, você percebeu como ocorriam os fluxos de movimentação no setor, que ocorrem nas seguintes direções:\n",
        "\n",
        "* Da Máquina D para a Máquina A;\n",
        "* Da Máquina A para a Máquina E;\n",
        "* Da Máquina E para a Máquina B;\n",
        "* Da Máquina B para a Máquina C.\n",
        "\n",
        "**Represente graficamente esses fluxos no plano cartesiano. Utilize setas para indicar as direções do fluxo.**\n",
        "\n",
        "**Dica**: Para representar o fluxo no código, utilize uma variável que recebe a lista: [3, 4, 0, 2, 1]"
      ],
      "metadata": {
        "id": "DqyxxbC75d_E"
      }
    },
    {
      "cell_type": "code",
      "source": [],
      "metadata": {
        "id": "tGQJC0Lm8I4F"
      },
      "execution_count": null,
      "outputs": []
    }
  ]
}